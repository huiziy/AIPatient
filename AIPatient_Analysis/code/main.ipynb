{
 "cells": [
  {
   "cell_type": "code",
   "execution_count": 15,
   "metadata": {},
   "outputs": [],
   "source": [
    "from data_cleaning_mimic.data_cleaning_mimic_class import MedicalDataProcessor\n",
    "from data_cleaning_mimic.data_cleaning_function.create_dataframe import *\n",
    "from Neo4jDatabase.Neo4jDatabase_class import Neo4jDatabase\n",
    "from llm_models.llm_model_class import LLM_Models\n",
    "from ablation_study.ablation_study_class import AblationEval\n",
    "from stability_evaluation.stability_evaluation_class import StabilityEval\n",
    "from robustness_evaluation.robustness_evaluation_class import RobustnessEval\n",
    "from readability_evaluation.readability_evaluation_class import ReadabilityEval\n",
    "import pandas as pd\n",
    "from config import config"
   ]
  },
  {
   "cell_type": "markdown",
   "metadata": {},
   "source": [
    "## Initialize Model and Data Cleaning Processor"
   ]
  },
  {
   "cell_type": "code",
   "execution_count": 2,
   "metadata": {},
   "outputs": [],
   "source": [
    "# Initialize the LLM model \n",
    "llm_model = LLM_Models()\n",
    "# Initialize the MedicalDataProcessor instance\n",
    "processor = MedicalDataProcessor(llm_model, 20)\n",
    "# Cleaning the raw EHR data\n",
    "processor.orchestrator()"
   ]
  },
  {
   "cell_type": "markdown",
   "metadata": {},
   "source": [
    "## Import to Neo4j Local Database"
   ]
  },
  {
   "cell_type": "code",
   "execution_count": 3,
   "metadata": {},
   "outputs": [],
   "source": [
    "processor.final_data[\"patient\"] = pd.read_csv(f'{config[\"data_path\"]}/patients.csv')\n",
    "processor.final_data[\"admission\"] = pd.read_csv(f'{config[\"data_path\"]}/admissions.csv')\n",
    "processor.final_data[\"family_history\"] = pd.read_csv(f'{config[\"data_path\"]}/family_history.csv')\n",
    "processor.final_data[\"history\"] = pd.read_csv(f'{config[\"data_path\"]}/history.csv')\n",
    "processor.final_data[\"social_history\"] = pd.read_csv(f'{config[\"data_path\"]}/social_history.csv')\n",
    "processor.final_data[\"symptoms\"] = pd.read_csv(f'{config[\"data_path\"]}/symptoms.csv')\n",
    "processor.final_data[\"vitals\"] = pd.read_csv(f'{config[\"data_path\"]}/vitals.csv')\n",
    "processor.final_data[\"allergies\"] = pd.read_csv(f'{config[\"data_path\"]}/allergies.csv')"
   ]
  },
  {
   "cell_type": "code",
   "execution_count": 4,
   "metadata": {},
   "outputs": [],
   "source": [
    "database = Neo4jDatabase(\n",
    "        uri=config[\"db_uri\"],\n",
    "        user=config[\"db_user\"],\n",
    "        password=config[\"db_password\"]\n",
    "    )\n",
    "# Upload to Neo4j Database\n",
    "database.db_creation_orchestrator(\n",
    "    df_patients=processor.final_data[\"patient\"],\n",
    "    df_admission=processor.final_data[\"admission\"],\n",
    "    df_symptoms=processor.final_data[\"symptoms\"],\n",
    "    df_history=processor.final_data[\"history\"],\n",
    "    df_vitals=processor.final_data[\"vitals\"],\n",
    "    df_allergies=processor.final_data[\"allergies\"],\n",
    "    df_social_history=processor.final_data[\"social_history\"],\n",
    "    df_family_history=processor.final_data[\"family_history\"]\n",
    ")"
   ]
  },
  {
   "cell_type": "markdown",
   "metadata": {},
   "source": [
    "## QA set for Evaluation"
   ]
  },
  {
   "cell_type": "code",
   "execution_count": 17,
   "metadata": {},
   "outputs": [],
   "source": [
    "QAset= pd.read_csv(\"/Users/huiziyu/Dropbox/AIPatient_Analysis/data/clean_data/QA_set.csv\")"
   ]
  },
  {
   "cell_type": "markdown",
   "metadata": {},
   "source": [
    "# Begin Ablation Study"
   ]
  },
  {
   "cell_type": "code",
   "execution_count": 14,
   "metadata": {},
   "outputs": [],
   "source": [
    "ablation_study = AblationEval(database, llm_model, QAset)\n",
    "ablation_study.orchestrator()\n",
    "ablation_study.evaluator()"
   ]
  },
  {
   "cell_type": "markdown",
   "metadata": {},
   "source": [
    "## Begin Stability Evaluation"
   ]
  },
  {
   "cell_type": "code",
   "execution_count": 19,
   "metadata": {},
   "outputs": [],
   "source": [
    "stability_evaluation = StabilityEval(database, llm_model, QAset)\n",
    "stability_evaluation.orchestrator()\n",
    "stability_evaluation.evaluator()"
   ]
  },
  {
   "cell_type": "markdown",
   "metadata": {},
   "source": [
    "## Begin Robustness Evaluation"
   ]
  },
  {
   "cell_type": "code",
   "execution_count": 22,
   "metadata": {},
   "outputs": [],
   "source": [
    "robustness_evaluation = RobustnessEval(database, llm_model, QAset)\n",
    "robustness_evaluation.orchestrator()\n",
    "robustness_evaluation.evaluator()"
   ]
  },
  {
   "cell_type": "markdown",
   "metadata": {},
   "source": [
    "## Begin Readability Evaluation"
   ]
  },
  {
   "cell_type": "code",
   "execution_count": null,
   "metadata": {},
   "outputs": [],
   "source": [
    "readability_evaluation = ReadabilityEval(database, llm_model, QAset)\n",
    "readability_evaluation.orchestrator()\n",
    "readability_evaluation.evaluator()"
   ]
  }
 ],
 "metadata": {
  "kernelspec": {
   "display_name": "Python 3",
   "language": "python",
   "name": "python3"
  },
  "language_info": {
   "codemirror_mode": {
    "name": "ipython",
    "version": 3
   },
   "file_extension": ".py",
   "mimetype": "text/x-python",
   "name": "python",
   "nbconvert_exporter": "python",
   "pygments_lexer": "ipython3",
   "version": "3.9.6"
  }
 },
 "nbformat": 4,
 "nbformat_minor": 2
}
